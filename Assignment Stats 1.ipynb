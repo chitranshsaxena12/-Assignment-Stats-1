{
 "cells": [
  {
   "cell_type": "code",
   "execution_count": 1,
   "id": "178f0ef6",
   "metadata": {},
   "outputs": [],
   "source": [
    "import pandas as pd\n",
    "import numpy as np\n",
    "import statistics\n",
    "import matplotlib.pyplot as plt\n",
    "from scipy.stats import poisson\n",
    "import seaborn as sns\n",
    "%matplotlib inline\n"
   ]
  },
  {
   "cell_type": "markdown",
   "id": "80f3acb9",
   "metadata": {},
   "source": [
    "# Problem Statement 1:\n",
    "\n",
    "The marks awarded for an assignment set for a Year 8 class of 20 students were as\n",
    "follows:\n",
    "\n",
    "6 7 5 7 7 8 7 6 9 7 4 10 6 8 8 9 5 6 4 8"
   ]
  },
  {
   "cell_type": "code",
   "execution_count": 41,
   "id": "e2605de8",
   "metadata": {},
   "outputs": [],
   "source": [
    "a =[6, 7, 5, 7, 7, 8, 7, 6, 9, 7, 4, 10, 6, 8, 8 ,9, 5, 6 ,4, 8]\n",
    "def find_mean_mode_median_std(data):\n",
    "    mean_ = np.mean(data)\n",
    "    median_ = np.median(data)\n",
    "    mode_ = statistics.mode(data)\n",
    "    standard_deviation = statistics.stdev(data)\n",
    "    print(\"Mean is\",mean_,\"\\n\",\"Median is\",median_,\"\\n\",\"Mode is\",mode_,\"\\n\", \"Standard Deviation is\",standard_deviation)"
   ]
  },
  {
   "cell_type": "code",
   "execution_count": 42,
   "id": "e341fd40",
   "metadata": {},
   "outputs": [
    {
     "name": "stdout",
     "output_type": "stream",
     "text": [
      "Mean is 6.85 \n",
      " Median is 7.0 \n",
      " Mode is 7 \n",
      " Standard Deviation is 1.6311119875071343\n"
     ]
    }
   ],
   "source": [
    "find_mean_mode_median_std(a)"
   ]
  },
  {
   "cell_type": "markdown",
   "id": "a3d49b98",
   "metadata": {},
   "source": [
    "# Problem Statement 2:\n",
    "\n",
    "The number of calls from motorists per day for roadside service was recorded for a\n",
    "\n",
    "particular month:\n",
    "\n",
    "28, 122, 217, 130, 120, 86, 80, 90, 140, 120, 70, 40, 145, 113, 90, 68, 174, 194, 170,\n",
    "100, 75, 104, 97, 75,\n",
    "123, 100, 75, 104, 97, 75, 123, 100, 89, 120, 109"
   ]
  },
  {
   "cell_type": "code",
   "execution_count": 62,
   "id": "b82cd3d7",
   "metadata": {},
   "outputs": [
    {
     "name": "stdout",
     "output_type": "stream",
     "text": [
      "Mean is 107.51428571428572 \n",
      " Median is 100.0 \n",
      " Mode is 75 \n",
      " Standard Deviation is 39.33892805484412\n"
     ]
    }
   ],
   "source": [
    "b =[28, 122, 217, 130, 120, 86, 80, 90, 140, 120, 70, 40, 145, 113, 90, 68, 174, 194, 170, 100, 75, 104, 97, 75, 123, 100, 75, 104, 97, 75, 123, 100, 89, 120, 109]\n",
    "find_mean_mode_median_std(b)"
   ]
  },
  {
   "cell_type": "markdown",
   "id": "44da9b3d",
   "metadata": {},
   "source": [
    "# Problem Statement 3:\n",
    "\n",
    "The number of times I go to the gym in weekdays, are given below along with its\n",
    "associated probability:\n",
    "\n",
    "x = 0, 1, 2, 3, 4, 5\n",
    "\n",
    "f(x) = 0.09, 0.15, 0.40, 0.25, 0.10, 0.01\n",
    "\n",
    "Calculate the mean no. of workouts in a week. Also evaluate the variance involved in\n",
    "it."
   ]
  },
  {
   "cell_type": "code",
   "execution_count": 26,
   "id": "9866b2b4",
   "metadata": {},
   "outputs": [
    {
     "name": "stdout",
     "output_type": "stream",
     "text": [
      "mean is 2.15\n",
      "Variance is 3.6999999999999997\n"
     ]
    }
   ],
   "source": [
    "x = [0, 1, 2, 3, 4, 5]\n",
    "fx = [0.09, 0.15, 0.40, 0.25, 0.10, 0.01]\n",
    "mean = sum([float(x[i])*fx[i] for i in range(len(x))])\n",
    "variance = (sum([float(x[i]**2)*fx[i] for i in range(len(x))])-mean)\n",
    "print('mean is',mean)\n",
    "print('Variance is', variance)\n"
   ]
  },
  {
   "cell_type": "markdown",
   "id": "7998da02",
   "metadata": {},
   "source": [
    "# Problem Statement 4:\n",
    "Let the continuous random variable D denote the diameter of the hole drilled in an\n",
    "aluminum sheet. The target diameter to be achieved is 12.5mm. Random\n",
    "disturbances in the process often result in inaccuracy.\n",
    "Historical data shows that the distribution of D can be modelled by the PDF (d) =\n",
    "20e−20(d−12.5), d ≥ 12.5. If a part with diameter > 12.6 mm needs to be scrapped,\n",
    "what is the proportion of those parts? What is the CDF when the diameter is of 11\n",
    "mm? What is your conclusion regarding the proportion of scraps?"
   ]
  },
  {
   "cell_type": "markdown",
   "id": "c5a9dd1f",
   "metadata": {},
   "source": [
    "<img src=\"Que 4,9.JPEG\" width= \"300\">"
   ]
  },
  {
   "cell_type": "markdown",
   "id": "1adf9f57",
   "metadata": {},
   "source": [
    "# Conclusion\n",
    "\n",
    "For any value of diameter less than 12.5 mm, the proportion of scraps is zero. For any value above 12.5 mm the proportion of scraps follow the equation:\n",
    "\n",
    "1-e^{-20(x-12.5) "
   ]
  },
  {
   "cell_type": "markdown",
   "id": "603b693b",
   "metadata": {},
   "source": [
    "# Problem Statement 5:\n",
    "\n",
    "A company manufactures LED bulbs with a faulty rate of 30%. If I randomly select 6\n",
    "chosen LEDs, what is the probability of having 2 faulty LEDs in my sample?\n",
    "Calculate the average value of this process. Also evaluate the standard deviation\n",
    "associated with it."
   ]
  },
  {
   "cell_type": "code",
   "execution_count": 4,
   "id": "13f57966",
   "metadata": {},
   "outputs": [
    {
     "name": "stdout",
     "output_type": "stream",
     "text": [
      "0.32602\n",
      "Mean is 1.7999999999999998\n",
      "Standard deviation for this process is 1.1224972160321822\n"
     ]
    }
   ],
   "source": [
    "from scipy.stats import binom\n",
    "add = sum(np.random.binomial(6, 0.3, 50000) == 2)/50000\n",
    "print(add)\n",
    "n = 6\n",
    "p = 0.3\n",
    "mean , var = binom.stats(n, p)\n",
    "std = var**0.5\n",
    "print('Mean is',mean)\n",
    "print('Standard deviation is',std)"
   ]
  },
  {
   "cell_type": "markdown",
   "id": "c5c517cd",
   "metadata": {},
   "source": [
    "# Problem Statement 6:\n",
    "\n",
    "Gaurav and Barakha are both preparing for entrance exams. Gaurav attempts to\n",
    "solve 8 questions per day with a correction rate of 75%, while Barakha averages\n",
    "around 12 questions per day with a correction rate of 45%. What is the probability\n",
    "that each of them will solve 5 questions correctly? What happens in cases of 4 and 6\n",
    "correct solutions? What do you infer from it? What are the two main governing\n",
    "factors affecting their ability to solve questions correctly? Give a pictorial\n",
    "representation of the same to validate your answer."
   ]
  },
  {
   "cell_type": "code",
   "execution_count": 51,
   "id": "b26f599e",
   "metadata": {},
   "outputs": [
    {
     "name": "stdout",
     "output_type": "stream",
     "text": [
      "probability of 4 solve questions correctly by Gaurav is 0.08651733398437499\n",
      "probability of 6 solve questions correctly by Gaurav is 0.31146240234375\n",
      "probability of 4 solve questions correctly by Gaurav is 0.1699639321360584\n",
      "probability of 6 solve questions correctly by Gaurav is 0.21238468214026457\n"
     ]
    },
    {
     "data": {
      "image/png": "[encoded data removed]",
      "text/plain": [
       "<Figure size 1296x576 with 2 Axes>"
      ]
     },
     "metadata": {
      "needs_background": "light"
     },
     "output_type": "display_data"
    }
   ],
   "source": [
    "from scipy.stats import binom\n",
    "# setting the values of n and p \n",
    "n_Gaurav = 8\n",
    "p_Gaurav = 0.75\n",
    "n_Barakha = 12\n",
    "p_Barakha = 0.45\n",
    "# defining the list of r values\n",
    "r_values_for_Gaurav = list(range(n_Gaurav + 1))\n",
    "r_values_for_Barakha = list(range(n_Barakha + 1))\n",
    "# list of pmf values\n",
    "Gaurav_dist = [binom.pmf(r, n_Gaurav, p_Gaurav) for r in r_values_for_Gaurav]\n",
    "Barakha_dist = [binom.pmf(r, n_Barakha, p_Barakha) for r in r_values_for_Barakha ]\n",
    "print(\"probability of\",r_values_for_Gaurav[4],\"solve questions correctly by Gaurav is\",Gaurav_dist[4])\n",
    "print(\"probability of\",r_values_for_Gaurav[6],\"solve questions correctly by Gaurav is\",Gaurav_dist[6])\n",
    "print(\"probability of\",r_values_for_Barakha[4],\"solve questions correctly by Gaurav is\",Barakha_dist[4])\n",
    "print(\"probability of\",r_values_for_Barakha[6],\"solve questions correctly by Gaurav is\",Barakha_dist[6])\n",
    "\n",
    "# plotting the graph  \n",
    "fig = plt.figure(figsize=(18,8))\n",
    "plt.subplot(1, 2,1)\n",
    "plt.title('Gaurav\\'s probability distribution')\n",
    "plt.xlabel('Number of questions solved correctly by Gaurav')\n",
    "plt.ylabel('Probability of solving')\n",
    "plt.bar(r_values_for_Gaurav, Gaurav_dist)\n",
    "plt.subplot(1, 2,2)\n",
    "plt.title('Barkha\\'s probability distribution')\n",
    "plt.xlabel('Number of questions solved correctly by Barakha')\n",
    "plt.ylabel('Probability of solving')\n",
    "plt.bar(r_values_for_Barakha, Barakha_dist) \n",
    "plt.show()"
   ]
  },
  {
   "cell_type": "markdown",
   "id": "a0538b1f",
   "metadata": {},
   "source": [
    "# Problem Statement 7:\n",
    "\n",
    "Customers arrive at a rate of 72 per hour to my shop. What is the probability of k\n",
    "customers arriving in 4 minutes? a) 5 customers, b) not more than 3 customers, c)\n",
    "more than 3 customers. Give a pictorial representation of the same to validate your\n",
    "answer."
   ]
  },
  {
   "cell_type": "markdown",
   "id": "01465e72",
   "metadata": {},
   "source": [
    "<img src=\"Que 7.JPEG\" width= \"300\">"
   ]
  },
  {
   "cell_type": "code",
   "execution_count": 3,
   "id": "205c9cb2",
   "metadata": {},
   "outputs": [
    {
     "data": {
      "image/png": "[encoded data removed]",
      "text/plain": [
       "<Figure size 432x288 with 1 Axes>"
      ]
     },
     "metadata": {
      "needs_background": "light"
     },
     "output_type": "display_data"
    }
   ],
   "source": [
    "Customers_1hour= 72\n",
    "Customers_1min = 72/60\n",
    "Customers_4min = (72/60)*4\n",
    "for_5cust = poisson.rvs(mu =Customers_4min, size=100)\n",
    "ax = sns.histplot(for_5cust, kde=True)\n",
    "ax.set(xlabel='Customers per 4 minutes', ylabel='Frequency')\n",
    "plt.title('Poisson distribution')\n",
    "plt.show()"
   ]
  },
  {
   "cell_type": "code",
   "execution_count": 47,
   "id": "506df402",
   "metadata": {},
   "outputs": [
    {
     "name": "stdout",
     "output_type": "stream",
     "text": [
      "Probability of not more than 3 customers is 0.294\n",
      "Probability of more than 3 customers is 0.706\n"
     ]
    },
    {
     "data": {
      "image/png": "[encoded data removed]",
      "text/plain": [
       "<Figure size 432x288 with 1 Axes>"
      ]
     },
     "metadata": {
      "needs_background": "light"
     },
     "output_type": "display_data"
    }
   ],
   "source": [
    "import numpy as np\n",
    "x = np.arange(0,25)\n",
    "prob = poisson.cdf(x, 4.8)\n",
    "y = prob[3]\n",
    "print('Probability of not more than 3 customers is',round(y,3))\n",
    "print('Probability of more than 3 customers is',round((1 - y),3))\n",
    "plt.plot(prob)\n",
    "plt.plot((3,3),(0,1))\n",
    "plt.scatter(3,prob[3])\n",
    "plt.text(3,prob[3],'({}, {})'.format(3, round(prob[3],3)))\n",
    "plt.title('CDF of poisson distribution')\n",
    "plt.show()"
   ]
  },
  {
   "cell_type": "markdown",
   "id": "abe9ebd0",
   "metadata": {},
   "source": [
    "# Problem Statement 8:\n",
    "\n",
    "I work as a data analyst in Aeon Learning Pvt. Ltd. After analyzing data, I make\n",
    "\n",
    "reports, where I have the efficiency of entering 77 words per minute with 6 errors per\n",
    "\n",
    "hour. What is the probability that I will commit 2 errors in a 455-word financial report?\n",
    "\n",
    "What happens when the no. of words increases/decreases (in case of 1000 words,\n",
    "\n",
    "255 words)?\n",
    "\n",
    "How is the λ affected?\n",
    "\n",
    "How does it influence the PMF?\n",
    "\n",
    "Give a pictorial representation of the same to validate your answer."
   ]
  },
  {
   "cell_type": "markdown",
   "id": "606b9d32",
   "metadata": {},
   "source": [
    "# formula of poission distribution is      f(x) = P(X=x) = (e-λ λx )/x!\n",
    "\n",
    "#### 77 words per minute has 6 errors per hour that is 0.1 error in 1 minute. So a 455 words report will have an average of 0.59. So λ is 0.59.\n",
    "\n"
   ]
  },
  {
   "cell_type": "markdown",
   "id": "bbe920c8",
   "metadata": {},
   "source": [
    "#### Probability                P(x)=(e-0.59* (0.59)**2 )/2!       = (0.5543 * 0.3481)/2        = 0.0965"
   ]
  },
  {
   "cell_type": "markdown",
   "id": "2f50c715",
   "metadata": {},
   "source": [
    "#### 77 words per minute has 6 errors per hour that is 0.1 error in 1 minute. So a 1000 words report will have an average of 1.299. So λ is 1.299.\n",
    " "
   ]
  },
  {
   "cell_type": "markdown",
   "id": "484b7d44",
   "metadata": {},
   "source": [
    "#### Probability                P(x)=(e-1.299 *(1.299)**2 )/2!       = (0.2728 * 1.6874)/2        = 0.23"
   ]
  },
  {
   "cell_type": "markdown",
   "id": "da57f4b4",
   "metadata": {},
   "source": [
    "#### 77 words per minute has 6 errors per hour that is 0.1 error in 1 minute. So a 255 words report will have an average of 0.33. So λ is 0.33."
   ]
  },
  {
   "cell_type": "markdown",
   "id": "30fd611b",
   "metadata": {},
   "source": [
    "#### Probability                P(x)=(e-0.33 *(0.33)**2 )/2!       = (0.7189 * 0.1089)/2        = 0.04"
   ]
  },
  {
   "cell_type": "markdown",
   "id": "ea031f8a",
   "metadata": {},
   "source": [
    "As a number of words in report increase λ that is the expected rate of error increase. "
   ]
  },
  {
   "cell_type": "code",
   "execution_count": 37,
   "id": "6e10888f",
   "metadata": {},
   "outputs": [
    {
     "data": {
      "image/png": "[encoded data removed]",
      "text/plain": [
       "<Figure size 720x432 with 1 Axes>"
      ]
     },
     "metadata": {
      "needs_background": "light"
     },
     "output_type": "display_data"
    },
    {
     "data": {
      "image/png": "[encoded data removed]",
      "text/plain": [
       "<Figure size 720x432 with 1 Axes>"
      ]
     },
     "metadata": {
      "needs_background": "light"
     },
     "output_type": "display_data"
    }
   ],
   "source": [
    "fig = plt.figure(figsize=(10,6))\n",
    "x = np.arange(0,10)\n",
    "mu_1 = 0.59\n",
    "mu_2 = 1.299\n",
    "mu_3 = 0.33\n",
    "plt.subplot(1,2,1)\n",
    "plt.plot(poisson.pmf(x,mu_1))\n",
    "plt.plot(poisson.pmf(x,mu_2))\n",
    "plt.plot(poisson.pmf(x,mu_3))\n",
    "plt.title('PDF for different lambda')\n",
    "plt.show()\n",
    "fig = plt.figure(figsize=(10,6))\n",
    "x = np.arange(0,10)\n",
    "mu_1 = 0.59\n",
    "mu_2 = 1.299\n",
    "mu_3 = 0.33\n",
    "plt.subplot(1,2,2)\n",
    "plt.plot(poisson.cdf(x,mu_1))\n",
    "plt.plot(poisson.cdf(x,mu_2))\n",
    "plt.plot(poisson.cdf(x,mu_3))\n",
    "plt.title('CDF for different lambda')\n",
    "plt.show()"
   ]
  },
  {
   "cell_type": "markdown",
   "id": "c775c1bf",
   "metadata": {},
   "source": [
    "# Problem Statement 9:\n",
    "\n",
    "Let the continuous random variable D denote the diameter of the hole drilled in an\n",
    "aluminum sheet. The target diameter to be achieved is 12.5mm. Random\n",
    "disturbances in the process often result in inaccuracy.\n",
    "Historical data shows that the distribution of D can be modelled by the PDF, f(d) =\n",
    "20e−20(d−12.5), d ≥ 12.5. If a part with diameter > 12.6 mm needs to be scrapped,\n",
    "what is the proportion of those parts? What is the CDF when the diameter is of 11\n",
    "mm?\n",
    "\n",
    "What is the conclusion of this experiment?"
   ]
  },
  {
   "cell_type": "markdown",
   "id": "90035d4b",
   "metadata": {},
   "source": [
    "<img src=\"Que 4,9.JPEG\" width= \"300\">"
   ]
  },
  {
   "cell_type": "markdown",
   "id": "08006643",
   "metadata": {},
   "source": [
    "# Conclusion\n",
    "\n",
    "For any value of diameter less than 12.5 mm, the proportion of scraps is zero. For any value above 12.5 mm the proportion of scraps follow the equation:\n",
    "\n",
    "1-e^{-20(x-12.5) "
   ]
  },
  {
   "cell_type": "markdown",
   "id": "8419ac38",
   "metadata": {},
   "source": [
    "# Problem Statement 10:\n",
    "\n",
    "Please compute the following:\n",
    "a) P(Z > 1.26), . P(Z < −0.86), P(Z > −1.37), P(−1.25 < Z < 0.37), . P(Z ≤ −4.6)\n",
    "b) Find the value z such that P(Z > z) = 0.05\n",
    "c) Find the value of z such that P(−z < Z < z) = 0.99"
   ]
  },
  {
   "cell_type": "markdown",
   "id": "6d05a590",
   "metadata": {},
   "source": [
    "(A) \n",
    "\n",
    "P(Z > 1.26) = 1 -P(Z < 1.26) = 1- 0.896 = 0.104P(Z < −0.86) = 0.195P(Z > −1.37) = 1-P(Z < −1.37) = 1-0.085 = 0.915P(−1.25 < Z < 0.37) = P(Z < 0.37) - P(z < -1.25) = 0.644 - 0.106 = 0.538P(Z <= −4.6) = 0 "
   ]
  },
  {
   "cell_type": "markdown",
   "id": "1b72947f",
   "metadata": {},
   "source": [
    "(B) \n",
    "\n",
    "             P(Z > z) = 0.05P(Z < z) = 1-0.05 = 0.95 \n",
    "                z=1.64"
   ]
  },
  {
   "cell_type": "markdown",
   "id": "72f1878f",
   "metadata": {},
   "source": [
    "(C)\n",
    "\n",
    "P(−z < Z < z) = 0.99P(Z < z) - P(Z < -z) =0.99 \n",
    "\n",
    "Total Probability is 1 so, \n",
    "\n",
    "                 1-0.99 = 0.01/2 = 0.005P(Z < z) = 0.005\n",
    " \n",
    "                        z = -2.58\n",
    "\n",
    "                 so, -2.58 < Z < 2.58"
   ]
  },
  {
   "cell_type": "markdown",
   "id": "733d486f",
   "metadata": {},
   "source": [
    "# Problem Statement 11:\n",
    "\n",
    "The current flow in a copper wire follow a normal distribution with a mean of 10 mA\n",
    "and a variance of 4 (mA)2.\n",
    "What is the probability that a current measurement will exceed 13 mA? What is the\n",
    "probability that a current measurement is between 9 and 11mA? Determine the\n",
    "current measurement which has a probability of 0.98."
   ]
  },
  {
   "cell_type": "code",
   "execution_count": 17,
   "id": "46f782f6",
   "metadata": {},
   "outputs": [
    {
     "name": "stdout",
     "output_type": "stream",
     "text": [
      "z_test= 1.5\n",
      "value of 1.5 according to z-table is= 0.933\n",
      "so, the probability p(z>1.5) is 0.06699999999999995\n",
      "probability that a current exceeding 13 mA will flow is 0.33\n"
     ]
    }
   ],
   "source": [
    "#probability that a current measurement will exceed 13 mA\n",
    "mean = 10\n",
    "variance = 4\n",
    "std = 4**1/2\n",
    "x = 13\n",
    "z_test = (x-mean)/std\n",
    "print(\"z_test=\",z_test)\n",
    "print(\"value of\", z_test,\"according to z-table is=\",0.933)\n",
    "probability = 1-0.933\n",
    "print(\"so, the probability p(z>1.5) is\", probability)\n",
    "print(\"probability that a current exceeding 13 mA will flow is 0.33\")"
   ]
  },
  {
   "cell_type": "code",
   "execution_count": 27,
   "id": "25a582ee",
   "metadata": {},
   "outputs": [
    {
     "name": "stdout",
     "output_type": "stream",
     "text": [
      "z_test= -0.5\n",
      "z_test= 0.5\n",
      "value of -0.5 according to z-table is= 0.309\n",
      "value of 0.5 according to z-table is= 0.691\n",
      "probability that a current measurement is between 9 and 11mA is 0.38199999999999995\n"
     ]
    }
   ],
   "source": [
    "x1 = 9\n",
    "x2 = 11\n",
    "z_test1 = (x1-mean)/std\n",
    "z_test2 = (x2-mean)/std\n",
    "print(\"z_test=\",z_test1)\n",
    "print(\"z_test=\",z_test2)\n",
    "z_test1_value = 0.309\n",
    "z_test2_value = 0.691\n",
    "print(\"value of\", z_test1,\"according to z-table is=\",0.309)\n",
    "print(\"value of\", z_test2,\"according to z-table is=\",0.691)\n",
    "probability1 =( z_test2_value-z_test1_value)\n",
    "print(\"probability that a current measurement is between 9 and 11mA is\", probability1)"
   ]
  },
  {
   "cell_type": "code",
   "execution_count": 31,
   "id": "81ff7a0e",
   "metadata": {},
   "outputs": [
    {
     "name": "stdout",
     "output_type": "stream",
     "text": [
      "z_score value of 0.98 according to z-table is 2.05\n",
      "current measurement is 14.1 mA\n"
     ]
    }
   ],
   "source": [
    "probability3 =0.98\n",
    "print(\"z_score value of\", probability3,\"according to z-table is\",2.05)\n",
    "z_score = 2.05\n",
    "x4 = (z_score*std) + mean\n",
    "print(\"current measurement is\", x4,\"mA\")"
   ]
  },
  {
   "cell_type": "markdown",
   "id": "2d37f511",
   "metadata": {},
   "source": [
    "# Problem Statement 12:\n",
    "\n",
    "The shaft in a piston has its diameter normally distributed with a mean of 0.2508 inch\n",
    "and a standard deviation of 0.0005 inch. The specifications of the shaft are 0.2500 ∓\n",
    "0.0015 inch. What proportion of shafts are in sync with the specifications? If the\n",
    "process is centered so that the mean is equal to the target value of 0.2500, what\n",
    "proportion of shafts conform to the new specifications? What is your conclusion from\n",
    "this experiment?"
   ]
  },
  {
   "cell_type": "code",
   "execution_count": 9,
   "id": "0684bf56",
   "metadata": {},
   "outputs": [
    {
     "name": "stdout",
     "output_type": "stream",
     "text": [
      "z_score_1 is 1.3999999999999568\n",
      "z_score_2 is -4.6000000000000485\n",
      "shafts are in sync with the specifications 0.91772\n"
     ]
    }
   ],
   "source": [
    "mean = 0.2508\n",
    "std = 0.0005\n",
    "x_1 = 0.2500 + 0.0015\n",
    "x_2 = 0.2500 - 0.0015\n",
    "z_test_1 = (x_1-mean)/std\n",
    "z_test_2 = (x_2-mean)/std\n",
    "z_test1_value = 0.91774\n",
    "z_test2_value = 0.00002\n",
    "print(\"z_score_1 is\", z_test_1)\n",
    "print(\"z_score_2 is\",z_test_2)\n",
    "print(\"shafts are in sync with the specifications\",z_test1_value - z_test2_value)"
   ]
  },
  {
   "cell_type": "code",
   "execution_count": 8,
   "id": "2c04184a",
   "metadata": {},
   "outputs": [
    {
     "name": "stdout",
     "output_type": "stream",
     "text": [
      "z_score_3 is 1.3999999999999568\n",
      "z_score_4 is -4.6000000000000485\n",
      "proportion of shafts conform to the new specifications 0.9973000000000001\n"
     ]
    }
   ],
   "source": [
    "mean1 = 0.2500\n",
    "z_test_3 = (x_1-mean1)/std\n",
    "z_test_4 = (x_2-mean1)/std\n",
    "z_test3_value = 0.99865\n",
    "z_test4_value = 0.00135\n",
    "print(\"z_score_3 is\", z_test_1)\n",
    "print(\"z_score_4 is\",z_test_2)\n",
    "print(\"proportion of shafts conform to the new specifications\",z_test3_value - z_test4_value)"
   ]
  },
  {
   "cell_type": "markdown",
   "id": "135ea287",
   "metadata": {},
   "source": [
    "# conclusion from this experiment\n",
    "\n",
    "If we change mean from 0.2508 to 0.2500 the proportion of shaft increases from 91% to 99.73%."
   ]
  },
  {
   "cell_type": "code",
   "execution_count": null,
   "id": "bfe49541",
   "metadata": {},
   "outputs": [],
   "source": []
  }
 ],
 "metadata": {
  "kernelspec": {
   "display_name": "Python 3 (ipykernel)",
   "language": "python",
   "name": "python3"
  },
  "language_info": {
   "codemirror_mode": {
    "name": "ipython",
    "version": 3
   },
   "file_extension": ".py",
   "mimetype": "text/x-python",
   "name": "python",
   "nbconvert_exporter": "python",
   "pygments_lexer": "ipython3",
   "version": "3.9.7"
  }
 },
 "nbformat": 4,
 "nbformat_minor": 5
}
